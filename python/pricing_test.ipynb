{
 "cells": [
  {
   "cell_type": "code",
   "execution_count": null,
   "id": "9364bd98",
   "metadata": {},
   "outputs": [],
   "source": [
    "import logging\n",
    "import os\n",
    "\n",
    "# Import our modules\n",
    "from calibration import calibrate_vix_model\n",
    "from pricing import (\n",
    "    GenericMCPricer,\n",
    "    VIXDedicatedMCPricer,\n",
    "    load_vix_data, \n",
    "    infer_current_regime, \n",
    "    create_regime_process\n",
    ")"
   ]
  },
  {
   "cell_type": "code",
   "execution_count": null,
   "id": "59234867",
   "metadata": {},
   "outputs": [],
   "source": [
    "logging.basicConfig(level=logging.INFO, format='%(asctime)s - %(levelname)s - %(message)s')\n",
    "logger = logging.getLogger(__name__)\n",
    "\n",
    "data_path = os.path.join('..', 'data', 'vix_data.csv')\n",
    "vix_df = load_vix_data(data_path)\n",
    "vix_values = vix_df['VIX'].values\n",
    "\n",
    "logger.info(\"Calibrating VIX model...\")\n",
    "calibrated_params, log_likelihoods = calibrate_vix_model(vix_values)\n",
    "# calibrated_params = initialize_vix_params(vix_values, num_regimes=2)\n",
    "\n",
    "logger.info(\"Inferring current regime...\")\n",
    "current_regime, regime_probs = infer_current_regime(vix_values, calibrated_params)\n",
    "logger.info(f\"Most likely current regime: {current_regime}\")\n",
    "logger.info(f\"Regime probabilities: {regime_probs}\")\n",
    "\n",
    "logger.info(\"Creating regime process...\")\n",
    "regime_process = create_regime_process(calibrated_params)\n",
    "\n",
    "current_vix = vix_values[-1]\n",
    "strike_price = 13.0  # ATM option\n",
    "expiry = 30  # 30 days to expiration\n",
    "\n",
    "logger.info(\"Done\")"
   ]
  },
  {
   "cell_type": "code",
   "execution_count": null,
   "id": "dc11c288",
   "metadata": {},
   "outputs": [],
   "source": [
    "logger.info(\"Creating VIX generic MC pricer...\")\n",
    "pricer = GenericMCPricer(regime_process)\n",
    "maturity = expiry / 252.0\n",
    "\n",
    "logger.info(\"Pricing VIX options...\")\n",
    "for strike in [19, 21, 23]:\n",
    "    call_price = pricer.price_european(\n",
    "        initial_val=current_vix / 100.0,\n",
    "        initial_regime=current_regime,\n",
    "        strike=strike,\n",
    "        maturity=maturity,\n",
    "        option_type='call'\n",
    "    )\n",
    "    put_price = pricer.price_european(\n",
    "        initial_val=current_vix / 100.0,\n",
    "        initial_regime=current_regime,\n",
    "        strike=strike,\n",
    "        maturity=maturity,\n",
    "        option_type='put'\n",
    "    )\n",
    "    \n",
    "    logger.info(f\" Strike {strike:.1f}, Expiry {expiry} days:\")\n",
    "    logger.info(f\"  Call: {call_price:.2f}\")\n",
    "    logger.info(f\"  Put:  {put_price:.2f}\")\n"
   ]
  },
  {
   "cell_type": "code",
   "execution_count": null,
   "id": "bd6ab34d",
   "metadata": {},
   "outputs": [],
   "source": [
    "logger.info(\"Creating VIX dedicated MC pricer...\")\n",
    "pricer = VIXDedicatedMCPricer(regime_process)\n",
    "\n",
    "logger.info(\"Pricing VIX options...\")\n",
    "for strike in [19, 21, 23]:\n",
    "    call_price = pricer.price_vix_option(\n",
    "        initial_vix=current_vix,\n",
    "        initial_regime=current_regime,\n",
    "        strike=strike,\n",
    "        expiry_days=expiry,\n",
    "        option_type='call'\n",
    "    )\n",
    "    put_price = pricer.price_vix_option(\n",
    "        initial_vix=current_vix,\n",
    "        initial_regime=current_regime,\n",
    "        strike=strike,\n",
    "        expiry_days=expiry,\n",
    "        option_type='put'\n",
    "    )\n",
    "    \n",
    "    logger.info(f\"Strike {strike:.1f}, Expiry {expiry} days:\")\n",
    "    logger.info(f\"  Call: {call_price:.2f}\")\n",
    "    logger.info(f\"  Put:  {put_price:.2f}\")"
   ]
  }
 ],
 "metadata": {
  "kernelspec": {
   "display_name": ".venv",
   "language": "python",
   "name": "python3"
  },
  "language_info": {
   "codemirror_mode": {
    "name": "ipython",
    "version": 3
   },
   "file_extension": ".py",
   "mimetype": "text/x-python",
   "name": "python",
   "nbconvert_exporter": "python",
   "pygments_lexer": "ipython3",
   "version": "3.13.9"
  }
 },
 "nbformat": 4,
 "nbformat_minor": 5
}
